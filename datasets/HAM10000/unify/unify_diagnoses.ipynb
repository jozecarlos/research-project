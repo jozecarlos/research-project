{
 "cells": [
  {
   "cell_type": "markdown",
   "metadata": {},
   "source": [
    "# Relabeling Dermatopathologic Diagnoses\n",
    "\n",
    "Below workflow of relabeling dermatopathologic diagnoses is given. Provided regex-search terms are examples and do not reflect all used terms in HAM-10000 dataset curation, as they differed between dataset-sources in regard to language and specialised terminology of pathology groups. \n"
   ]
  },
  {
   "cell_type": "code",
   "execution_count": 1,
   "metadata": {},
   "outputs": [],
   "source": [
    "import pandas as pd\n",
    "import warnings\n",
    "warnings.filterwarnings(\"ignore\", 'This pattern has match groups')"
   ]
  },
  {
   "cell_type": "markdown",
   "metadata": {},
   "source": [
    "# Read data"
   ]
  },
  {
   "cell_type": "code",
   "execution_count": 2,
   "metadata": {},
   "outputs": [
    {
     "data": {
      "text/html": [
       "<div>\n",
       "<style scoped>\n",
       "    .dataframe tbody tr th:only-of-type {\n",
       "        vertical-align: middle;\n",
       "    }\n",
       "\n",
       "    .dataframe tbody tr th {\n",
       "        vertical-align: top;\n",
       "    }\n",
       "\n",
       "    .dataframe thead th {\n",
       "        text-align: right;\n",
       "    }\n",
       "</style>\n",
       "<table border=\"1\" class=\"dataframe\">\n",
       "  <thead>\n",
       "    <tr style=\"text-align: right;\">\n",
       "      <th></th>\n",
       "      <th>diagnosis</th>\n",
       "      <th>dx</th>\n",
       "    </tr>\n",
       "    <tr>\n",
       "      <th>caseno</th>\n",
       "      <th></th>\n",
       "      <th></th>\n",
       "    </tr>\n",
       "  </thead>\n",
       "  <tbody>\n",
       "    <tr>\n",
       "      <th>1</th>\n",
       "      <td>Bowen's disease</td>\n",
       "      <td>bowen's disease</td>\n",
       "    </tr>\n",
       "    <tr>\n",
       "      <th>2</th>\n",
       "      <td>Junctional melanocytic nevus</td>\n",
       "      <td>junctional melanocytic nevus</td>\n",
       "    </tr>\n",
       "    <tr>\n",
       "      <th>3</th>\n",
       "      <td>Unclear melanocytic lesion, recommend complete...</td>\n",
       "      <td>unclear melanocytic lesion, recommend complete...</td>\n",
       "    </tr>\n",
       "    <tr>\n",
       "      <th>4</th>\n",
       "      <td>Dermatofibroma</td>\n",
       "      <td>dermatofibroma</td>\n",
       "    </tr>\n",
       "    <tr>\n",
       "      <th>5</th>\n",
       "      <td>Lentigo maligna melanoma, Clark level III, Bre...</td>\n",
       "      <td>lentigo maligna melanoma, clark level iii, bre...</td>\n",
       "    </tr>\n",
       "  </tbody>\n",
       "</table>\n",
       "</div>"
      ],
      "text/plain": [
       "                                                diagnosis  \\\n",
       "caseno                                                      \n",
       "1                                         Bowen's disease   \n",
       "2                            Junctional melanocytic nevus   \n",
       "3       Unclear melanocytic lesion, recommend complete...   \n",
       "4                                          Dermatofibroma   \n",
       "5       Lentigo maligna melanoma, Clark level III, Bre...   \n",
       "\n",
       "                                                       dx  \n",
       "caseno                                                     \n",
       "1                                         bowen's disease  \n",
       "2                            junctional melanocytic nevus  \n",
       "3       unclear melanocytic lesion, recommend complete...  \n",
       "4                                          dermatofibroma  \n",
       "5       lentigo maligna melanoma, clark level iii, bre...  "
      ]
     },
     "execution_count": 2,
     "metadata": {},
     "output_type": "execute_result"
    }
   ],
   "source": [
    "df = pd.read_csv('unify_diagnoses_example.csv', encoding='utf-8', delimiter=';', index_col=0)\n",
    "df['dx'] = df.diagnosis.str.lower()\n",
    "df.head()"
   ]
  },
  {
   "cell_type": "markdown",
   "metadata": {},
   "source": [
    "# Relabel"
   ]
  },
  {
   "cell_type": "code",
   "execution_count": 3,
   "metadata": {},
   "outputs": [],
   "source": [
    "def relabel(df, column, search, result, test=False):\n",
    "    print(30*\"-\")\n",
    "    if test:\n",
    "        print(\"Terms to relabel:\")\n",
    "    else:\n",
    "        print(f\"Terms relabeled to \\\"{result}\\\":\")\n",
    "    print(30*\"-\")\n",
    "    print(df[df[column].str.contains(search)][column].value_counts())\n",
    "    if test:\n",
    "        return None\n",
    "    else:\n",
    "        df.loc[df[column].str.contains(search), column] = result\n"
   ]
  },
  {
   "cell_type": "markdown",
   "metadata": {},
   "source": [
    "## Always inspect found selection before proceeding to the next term"
   ]
  },
  {
   "cell_type": "code",
   "execution_count": 4,
   "metadata": {},
   "outputs": [
    {
     "name": "stdout",
     "output_type": "stream",
     "text": [
      "------------------------------\n",
      "Terms to relabel:\n",
      "------------------------------\n",
      "unclear melanocytic lesion, recommend complete excision with 0.5cm margins    2\n",
      "fibrosis and acanthosis, consistent with scar after previous biopsy           1\n",
      "collision of seborrheic keratosis and basal cell carcinoma, in toto           1\n",
      "no signs of residual tumor                                                    1\n",
      "Name: dx, dtype: int64\n"
     ]
    }
   ],
   "source": [
    "relabel(df, \"dx\", \"(unclear)|(no sign)|(no residual)|(scar)|(collis)\", \"nonuse\", test=True)"
   ]
  },
  {
   "cell_type": "markdown",
   "metadata": {},
   "source": [
    "## Iterate over all groups"
   ]
  },
  {
   "cell_type": "markdown",
   "metadata": {},
   "source": [
    "### Rows to exclude"
   ]
  },
  {
   "cell_type": "code",
   "execution_count": 5,
   "metadata": {},
   "outputs": [
    {
     "name": "stdout",
     "output_type": "stream",
     "text": [
      "------------------------------\n",
      "Terms relabeled to \"nonuse\":\n",
      "------------------------------\n",
      "unclear melanocytic lesion, recommend complete excision with 0.5cm margins    2\n",
      "fibrosis and acanthosis, consistent with scar after previous biopsy           1\n",
      "collision of seborrheic keratosis and basal cell carcinoma, in toto           1\n",
      "no signs of residual tumor                                                    1\n",
      "Name: dx, dtype: int64\n"
     ]
    }
   ],
   "source": [
    "# Non-useable diagnoses\n",
    "relabel(df, \"dx\", \"(unclear)|(no sign)|(no residual)|(scar)|(collis)\", \"nonuse\")"
   ]
  },
  {
   "cell_type": "markdown",
   "metadata": {},
   "source": [
    "### Malignant cases"
   ]
  },
  {
   "cell_type": "code",
   "execution_count": 6,
   "metadata": {},
   "outputs": [
    {
     "name": "stdout",
     "output_type": "stream",
     "text": [
      "------------------------------\n",
      "Terms relabeled to \"mel\":\n",
      "------------------------------\n",
      "superficial spreading melanoma, breslow thickness 0.4mm, clark iii, <1 mitoses/mm2    1\n",
      "nodular melaoma, breslow thickness 4mm, <1 mitoses/mm2, lateral margins clear         1\n",
      "partial biopsy of lentigo maligna with all lateral margins involved                   1\n",
      "superficial spreading melanoma, in situ, in toto                                      1\n",
      "ssm in association with a preexisting dermal nevus                                    1\n",
      "lentigo maligna melanoma, clark level iii, breslow 0.7mm, <1 mitosis/mm2, in toto     1\n",
      "Name: dx, dtype: int64\n"
     ]
    }
   ],
   "source": [
    "# mel\n",
    "# Melanoma may be used as first iteration to correctly label \"nevus associated melanomas\" as \"melanoma\"\n",
    "relabel(df, \"dx\", \"(lentigo maligna)|(ssm)|(mela[n]*oma)\", \"mel\")"
   ]
  },
  {
   "cell_type": "code",
   "execution_count": 7,
   "metadata": {},
   "outputs": [
    {
     "name": "stdout",
     "output_type": "stream",
     "text": [
      "------------------------------\n",
      "Terms relabeled to \"bcc\":\n",
      "------------------------------\n",
      "morpheiform bcc, in toto                                 1\n",
      "pigmented nodular basal cell carcinoma (punch biopsy)    1\n",
      "basal cell carcinoma (punch biopsy)                      1\n",
      "Name: dx, dtype: int64\n"
     ]
    }
   ],
   "source": [
    "# bcc\n",
    "relabel(df, \"dx\", \"(bcc)|(basal cell carcinom)\", \"bcc\")"
   ]
  },
  {
   "cell_type": "code",
   "execution_count": 8,
   "metadata": {},
   "outputs": [
    {
     "name": "stdout",
     "output_type": "stream",
     "text": [
      "------------------------------\n",
      "Terms relabeled to \"akiec\":\n",
      "------------------------------\n",
      "actinic keratosis without signs of invasive alterations    1\n",
      "intraepithelial carcinoma, in toto                         1\n",
      "bowen's disease                                            1\n",
      "Name: dx, dtype: int64\n"
     ]
    }
   ],
   "source": [
    "# akiec\n",
    "relabel(df, \"dx\", \"(intraepithelial carc)|(bowen)|(actinic keratosis)\", \"akiec\")"
   ]
  },
  {
   "cell_type": "markdown",
   "metadata": {},
   "source": [
    "### Benign cases"
   ]
  },
  {
   "cell_type": "code",
   "execution_count": 9,
   "metadata": {},
   "outputs": [
    {
     "name": "stdout",
     "output_type": "stream",
     "text": [
      "------------------------------\n",
      "Terms relabeled to \"nv\":\n",
      "------------------------------\n",
      "junctional nevus                2\n",
      "junctional melanocytic nevus    1\n",
      "irritated clark's naevus        1\n",
      "recurrent naevus                1\n",
      "compound nevus                  1\n",
      "spindlecell-nevus reed          1\n",
      "clark's nevus                   1\n",
      "blue nevus                      1\n",
      "Name: dx, dtype: int64\n"
     ]
    }
   ],
   "source": [
    "# nevus\n",
    "relabel(df, \"dx\", \"(n[ä|a]*e*vus(?! sebaceus))|(Compound)|(reed)\", \"nv\")"
   ]
  },
  {
   "cell_type": "code",
   "execution_count": 10,
   "metadata": {},
   "outputs": [
    {
     "name": "stdout",
     "output_type": "stream",
     "text": [
      "------------------------------\n",
      "Terms relabeled to \"bkl\":\n",
      "------------------------------\n",
      "seborrheic keratosis     4\n",
      "verruca seborrhoica      1\n",
      "seborrhoeic keratosis    1\n",
      "Name: dx, dtype: int64\n"
     ]
    }
   ],
   "source": [
    "# bkl\n",
    "relabel(df, \"dx\", \"(seb k)|(verr.*seborrhoica)|(seborrh[o]*eic ker)\", \"bkl\")"
   ]
  },
  {
   "cell_type": "code",
   "execution_count": 11,
   "metadata": {},
   "outputs": [
    {
     "name": "stdout",
     "output_type": "stream",
     "text": [
      "------------------------------\n",
      "Terms relabeled to \"vasc\":\n",
      "------------------------------\n",
      "thrombosed angioma              1\n",
      "eruptive capillary angioma      1\n",
      "angiokeratoma (punch biopsy)    1\n",
      "hemangioma                      1\n",
      "angioma (punch biopsy)          1\n",
      "Name: dx, dtype: int64\n"
     ]
    }
   ],
   "source": [
    "# vasc\n",
    "relabel(df, \"dx\", \"angio(kerato)*m\", \"vasc\")"
   ]
  },
  {
   "cell_type": "code",
   "execution_count": 12,
   "metadata": {},
   "outputs": [
    {
     "name": "stdout",
     "output_type": "stream",
     "text": [
      "------------------------------\n",
      "Terms relabeled to \"df\":\n",
      "------------------------------\n",
      "dermatofibroma                  3\n",
      "hemosiderotic dermatofibroma    1\n",
      "Name: dx, dtype: int64\n"
     ]
    }
   ],
   "source": [
    "# df\n",
    "relabel(df, \"dx\", \"dermatofibrom\", \"df\")"
   ]
  },
  {
   "cell_type": "markdown",
   "metadata": {},
   "source": [
    "# Restrict to used classes"
   ]
  },
  {
   "cell_type": "code",
   "execution_count": 13,
   "metadata": {},
   "outputs": [
    {
     "data": {
      "text/plain": [
       "nv       9\n",
       "bkl      6\n",
       "mel      6\n",
       "vasc     5\n",
       "df       4\n",
       "bcc      3\n",
       "akiec    3\n",
       "Name: dx, dtype: int64"
      ]
     },
     "execution_count": 13,
     "metadata": {},
     "output_type": "execute_result"
    }
   ],
   "source": [
    "df = df[df.dx.isin(['mel', 'nv', 'bcc', 'bkl', 'vasc', 'df', 'akiec'])]\n",
    "df.dx.value_counts()"
   ]
  },
  {
   "cell_type": "code",
   "execution_count": null,
   "metadata": {},
   "outputs": [],
   "source": []
  }
 ],
 "metadata": {
  "kernelspec": {
   "display_name": "Python 3",
   "language": "python",
   "name": "python3"
  },
  "language_info": {
   "codemirror_mode": {
    "name": "ipython",
    "version": 3
   },
   "file_extension": ".py",
   "mimetype": "text/x-python",
   "name": "python",
   "nbconvert_exporter": "python",
   "pygments_lexer": "ipython3",
   "version": "3.6.4"
  }
 },
 "nbformat": 4,
 "nbformat_minor": 2
}
